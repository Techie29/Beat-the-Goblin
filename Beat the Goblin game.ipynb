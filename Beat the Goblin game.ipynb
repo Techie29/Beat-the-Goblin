{
 "cells": [
  {
   "cell_type": "code",
   "execution_count": 22,
   "id": "557b9b23-c42e-43ca-9312-b41ab98afbe5",
   "metadata": {},
   "outputs": [
    {
     "name": "stdout",
     "output_type": "stream",
     "text": [
      "Welcome to the Gulag.\n",
      "Your enemy is the goblin, prepare for battle!\n",
      "You: 30 hp  5 sp\n",
      "Goblin: 25 hp\n"
     ]
    },
    {
     "name": "stdin",
     "output_type": "stream",
     "text": [
      "Do you want to 'atk','heal', or 'smash'? s\n"
     ]
    },
    {
     "name": "stdout",
     "output_type": "stream",
     "text": [
      "You smashed Goblin for 5 dmg!!!\n",
      "Goblin dealt 1 dmg to you!\n",
      "You: 29 hp  2 sp\n",
      "Goblin: 20 hp\n"
     ]
    },
    {
     "name": "stdin",
     "output_type": "stream",
     "text": [
      "Do you want to 'atk','heal', or 'smash'? a\n"
     ]
    },
    {
     "name": "stdout",
     "output_type": "stream",
     "text": [
      "You dealt 4 dmg to goblin...\n",
      "Goblin healed 3 health.\n",
      "You: 29 hp  3 sp\n",
      "Goblin: 19 hp\n"
     ]
    },
    {
     "name": "stdin",
     "output_type": "stream",
     "text": [
      "Do you want to 'atk','heal', or 'smash'? s\n"
     ]
    },
    {
     "name": "stdout",
     "output_type": "stream",
     "text": [
      "You smashed Goblin for 6 dmg!!!\n",
      "Goblin healed 1 health.\n",
      "You: 29 hp  0 sp\n",
      "Goblin: 14 hp\n"
     ]
    },
    {
     "name": "stdin",
     "output_type": "stream",
     "text": [
      "Do you want to 'atk','heal', or 'smash'? a\n"
     ]
    },
    {
     "name": "stdout",
     "output_type": "stream",
     "text": [
      "You dealt 3 dmg to goblin...\n",
      "You: 29 hp  1 sp\n",
      "Goblin: 11 hp\n"
     ]
    },
    {
     "name": "stdin",
     "output_type": "stream",
     "text": [
      "Do you want to 'atk','heal', or 'smash'? a\n"
     ]
    },
    {
     "name": "stdout",
     "output_type": "stream",
     "text": [
      "You dealt 5 dmg to goblin...\n",
      "You: 29 hp  2 sp\n",
      "Goblin: 6 hp\n"
     ]
    },
    {
     "name": "stdin",
     "output_type": "stream",
     "text": [
      "Do you want to 'atk','heal', or 'smash'? a\n"
     ]
    },
    {
     "name": "stdout",
     "output_type": "stream",
     "text": [
      "You dealt 5 dmg to goblin...\n",
      "Goblin dealt 2 dmg to you!\n",
      "You: 27 hp  3 sp\n",
      "Goblin: 1 hp\n"
     ]
    },
    {
     "name": "stdin",
     "output_type": "stream",
     "text": [
      "Do you want to 'atk','heal', or 'smash'? a\n"
     ]
    },
    {
     "name": "stdout",
     "output_type": "stream",
     "text": [
      "You dealt 5 dmg to goblin...\n",
      "You have won!!!\n",
      "Wins: 1\n",
      "Rewards: Hp boosted, Sp boosted\n"
     ]
    },
    {
     "name": "stdin",
     "output_type": "stream",
     "text": [
      "Pick a prize: 1_HealUP, 2_AtkUP, 3_SmashUP v\n"
     ]
    },
    {
     "name": "stdout",
     "output_type": "stream",
     "text": [
      "Oops invalid response, No reward!!!\n",
      "You: 32 hp  6 sp\n",
      "Goblin: 25 hp\n"
     ]
    },
    {
     "ename": "KeyboardInterrupt",
     "evalue": "Interrupted by user",
     "output_type": "error",
     "traceback": [
      "\u001b[1;31m---------------------------------------------------------------------------\u001b[0m",
      "\u001b[1;31mKeyboardInterrupt\u001b[0m                         Traceback (most recent call last)",
      "Cell \u001b[1;32mIn[22], line 89\u001b[0m\n\u001b[0;32m     87\u001b[0m \u001b[38;5;28mprint\u001b[39m(\u001b[38;5;124mf\u001b[39m\u001b[38;5;124m'\u001b[39m\u001b[38;5;124mYou: \u001b[39m\u001b[38;5;132;01m{\u001b[39;00muserhp\u001b[38;5;132;01m}\u001b[39;00m\u001b[38;5;124m hp  \u001b[39m\u001b[38;5;132;01m{\u001b[39;00musersp\u001b[38;5;132;01m}\u001b[39;00m\u001b[38;5;124m sp\u001b[39m\u001b[38;5;124m'\u001b[39m)\n\u001b[0;32m     88\u001b[0m \u001b[38;5;28mprint\u001b[39m(\u001b[38;5;124mf\u001b[39m\u001b[38;5;124m'\u001b[39m\u001b[38;5;124mGoblin: \u001b[39m\u001b[38;5;132;01m{\u001b[39;00mgoblinhp\u001b[38;5;132;01m}\u001b[39;00m\u001b[38;5;124m hp\u001b[39m\u001b[38;5;124m'\u001b[39m)\n\u001b[1;32m---> 89\u001b[0m userinput \u001b[38;5;241m=\u001b[39m \u001b[38;5;28minput\u001b[39m(\u001b[38;5;124m\"\u001b[39m\u001b[38;5;124mDo you want to \u001b[39m\u001b[38;5;124m'\u001b[39m\u001b[38;5;124matk\u001b[39m\u001b[38;5;124m'\u001b[39m\u001b[38;5;124m,\u001b[39m\u001b[38;5;124m'\u001b[39m\u001b[38;5;124mheal\u001b[39m\u001b[38;5;124m'\u001b[39m\u001b[38;5;124m, or \u001b[39m\u001b[38;5;124m'\u001b[39m\u001b[38;5;124msmash\u001b[39m\u001b[38;5;124m'\u001b[39m\u001b[38;5;124m?\u001b[39m\u001b[38;5;124m\"\u001b[39m)\u001b[38;5;241m.\u001b[39mstrip()\u001b[38;5;241m.\u001b[39mlower()\n\u001b[0;32m     90\u001b[0m \u001b[38;5;28;01mif\u001b[39;00m userinput \u001b[38;5;129;01min\u001b[39;00m [\u001b[38;5;124m'\u001b[39m\u001b[38;5;124ma\u001b[39m\u001b[38;5;124m'\u001b[39m, \u001b[38;5;124m'\u001b[39m\u001b[38;5;124matk\u001b[39m\u001b[38;5;124m'\u001b[39m, \u001b[38;5;124m'\u001b[39m\u001b[38;5;124mh\u001b[39m\u001b[38;5;124m'\u001b[39m, \u001b[38;5;124m'\u001b[39m\u001b[38;5;124mheal\u001b[39m\u001b[38;5;124m'\u001b[39m, \u001b[38;5;124m'\u001b[39m\u001b[38;5;124ms\u001b[39m\u001b[38;5;124m'\u001b[39m, \u001b[38;5;124m'\u001b[39m\u001b[38;5;124msmash\u001b[39m\u001b[38;5;124m'\u001b[39m]:\n\u001b[0;32m     91\u001b[0m     \u001b[38;5;28;01mif\u001b[39;00m userinput \u001b[38;5;129;01min\u001b[39;00m [\u001b[38;5;124m'\u001b[39m\u001b[38;5;124ma\u001b[39m\u001b[38;5;124m'\u001b[39m,\u001b[38;5;124m'\u001b[39m\u001b[38;5;124matk\u001b[39m\u001b[38;5;124m'\u001b[39m]:\n",
      "File \u001b[1;32m~\\anaconda3\\Lib\\site-packages\\ipykernel\\kernelbase.py:1262\u001b[0m, in \u001b[0;36mKernel.raw_input\u001b[1;34m(self, prompt)\u001b[0m\n\u001b[0;32m   1260\u001b[0m     msg \u001b[38;5;241m=\u001b[39m \u001b[38;5;124m\"\u001b[39m\u001b[38;5;124mraw_input was called, but this frontend does not support input requests.\u001b[39m\u001b[38;5;124m\"\u001b[39m\n\u001b[0;32m   1261\u001b[0m     \u001b[38;5;28;01mraise\u001b[39;00m StdinNotImplementedError(msg)\n\u001b[1;32m-> 1262\u001b[0m \u001b[38;5;28;01mreturn\u001b[39;00m \u001b[38;5;28mself\u001b[39m\u001b[38;5;241m.\u001b[39m_input_request(\n\u001b[0;32m   1263\u001b[0m     \u001b[38;5;28mstr\u001b[39m(prompt),\n\u001b[0;32m   1264\u001b[0m     \u001b[38;5;28mself\u001b[39m\u001b[38;5;241m.\u001b[39m_parent_ident[\u001b[38;5;124m\"\u001b[39m\u001b[38;5;124mshell\u001b[39m\u001b[38;5;124m\"\u001b[39m],\n\u001b[0;32m   1265\u001b[0m     \u001b[38;5;28mself\u001b[39m\u001b[38;5;241m.\u001b[39mget_parent(\u001b[38;5;124m\"\u001b[39m\u001b[38;5;124mshell\u001b[39m\u001b[38;5;124m\"\u001b[39m),\n\u001b[0;32m   1266\u001b[0m     password\u001b[38;5;241m=\u001b[39m\u001b[38;5;28;01mFalse\u001b[39;00m,\n\u001b[0;32m   1267\u001b[0m )\n",
      "File \u001b[1;32m~\\anaconda3\\Lib\\site-packages\\ipykernel\\kernelbase.py:1305\u001b[0m, in \u001b[0;36mKernel._input_request\u001b[1;34m(self, prompt, ident, parent, password)\u001b[0m\n\u001b[0;32m   1302\u001b[0m \u001b[38;5;28;01mexcept\u001b[39;00m \u001b[38;5;167;01mKeyboardInterrupt\u001b[39;00m:\n\u001b[0;32m   1303\u001b[0m     \u001b[38;5;66;03m# re-raise KeyboardInterrupt, to truncate traceback\u001b[39;00m\n\u001b[0;32m   1304\u001b[0m     msg \u001b[38;5;241m=\u001b[39m \u001b[38;5;124m\"\u001b[39m\u001b[38;5;124mInterrupted by user\u001b[39m\u001b[38;5;124m\"\u001b[39m\n\u001b[1;32m-> 1305\u001b[0m     \u001b[38;5;28;01mraise\u001b[39;00m \u001b[38;5;167;01mKeyboardInterrupt\u001b[39;00m(msg) \u001b[38;5;28;01mfrom\u001b[39;00m \u001b[38;5;28;01mNone\u001b[39;00m\n\u001b[0;32m   1306\u001b[0m \u001b[38;5;28;01mexcept\u001b[39;00m \u001b[38;5;167;01mException\u001b[39;00m:\n\u001b[0;32m   1307\u001b[0m     \u001b[38;5;28mself\u001b[39m\u001b[38;5;241m.\u001b[39mlog\u001b[38;5;241m.\u001b[39mwarning(\u001b[38;5;124m\"\u001b[39m\u001b[38;5;124mInvalid Message:\u001b[39m\u001b[38;5;124m\"\u001b[39m, exc_info\u001b[38;5;241m=\u001b[39m\u001b[38;5;28;01mTrue\u001b[39;00m)\n",
      "\u001b[1;31mKeyboardInterrupt\u001b[0m: Interrupted by user"
     ]
    }
   ],
   "source": [
    "from random import randint, choice\n",
    "# CODE I MADE \n",
    "# CHATGPT REVISED CODE NEXT INPUT CELL\n",
    "\n",
    "# Player attributes\n",
    "userhp = 30\n",
    "usersp = 5\n",
    "userheal = 5\n",
    "usersmash = 8\n",
    "useratk = 5\n",
    "wins = 0\n",
    "\n",
    "# Goblin attributes\n",
    "goblinhp = 25\n",
    "goblinsp = 5\n",
    "goblinheal = 5\n",
    "ghurl = 10\n",
    "goblinatk = 3\n",
    "goblinchoice = ['atk','heal','hurl']\n",
    "\n",
    "def reset_goblin():\n",
    "    global goblinhp, goblinsp, goblinatk, goblinheal, ghurl, wins\n",
    "    if wins < 10:\n",
    "        goblinhp = 25\n",
    "        goblinsp = 5\n",
    "        goblinatk = 3\n",
    "        goblinheal = 5\n",
    "        ghurl = 10\n",
    "    elif wins >= 10 and wins < 20:\n",
    "        if wins == 10:\n",
    "            print('The goblins grow stronger!!!')\n",
    "        goblinhp = 25 * 2\n",
    "        goblinsp = 5 * 2\n",
    "        goblinatk = 3 * 2\n",
    "        goblinheal = 5 * 2\n",
    "        ghurl = 10 * 2\n",
    "    elif wins >= 20 and wins < 30:\n",
    "        if wins == 20:\n",
    "            print('The goblins grow stronger!!!')\n",
    "        goblinhp = 25 * 3\n",
    "        goblinsp = 5 * 3\n",
    "        goblinatk = 3 * 3\n",
    "        goblinheal = 5 * 3\n",
    "        ghurl = 10 * 3\n",
    "    else:\n",
    "        print('error')\n",
    "    \n",
    "        \n",
    "\n",
    "def goblinTurn():\n",
    "    global userhp, goblinhp, goblinsp\n",
    "    turn = choice(goblinchoice)\n",
    "    if turn == 'atk':\n",
    "        minatk = goblinatk - 2\n",
    "        hisatk = randint(minatk,goblinatk)\n",
    "        print(f'Goblin dealt {hisatk} dmg to you!')\n",
    "        userhp -= hisatk\n",
    "        goblinsp += 1\n",
    "    elif turn == 'hurl' and goblinsp >= 3:\n",
    "        minhurl = ghurl - 4\n",
    "        hurlatk = randint(minhurl,ghurl)\n",
    "        print(f'Goblin hurled a rock at you! {hurlatk} dmg!!!')\n",
    "        userhp -= hurlatk\n",
    "        goblinsp -= 3\n",
    "    elif turn == 'heal' and goblinsp >= 2:\n",
    "        minheal = goblinheal - 4\n",
    "        heal_amount = randint(minheal, goblinheal)\n",
    "        print(f'Goblin healed {heal_amount} health.')\n",
    "        goblinhp += heal_amount\n",
    "        goblinsp -= 2\n",
    "    elif (turn == 'hurl' or turn == 'heal') and goblinsp < 2:\n",
    "        minatk = goblinatk - 2\n",
    "        hisatk = randint(minatk,goblinatk)\n",
    "        print(f'Goblin dealt {hisatk} dmg to you!')\n",
    "        userhp -= hisatk\n",
    "        goblinsp += 1\n",
    "    else:\n",
    "        pass\n",
    "\n",
    "print('Welcome to the Gulag.')\n",
    "print('Your enemy is the goblin, prepare for battle!')\n",
    "\n",
    "#Main game loop\n",
    "while userhp > 0:\n",
    "    reset_goblin()\n",
    "    while userhp > 0 and goblinhp > 0:\n",
    "        print(f'You: {userhp} hp  {usersp} sp')\n",
    "        print(f'Goblin: {goblinhp} hp')\n",
    "        userinput = input(\"Do you want to 'atk','heal', or 'smash'?\").strip().lower()\n",
    "        if userinput in ['a', 'atk', 'h', 'heal', 's', 'smash']:\n",
    "            if userinput in ['a','atk']:\n",
    "                minatk = useratk - 4\n",
    "                youratk = randint(minatk,useratk)\n",
    "                print(f'You dealt {youratk} dmg to goblin...')\n",
    "                goblinhp -= youratk\n",
    "                usersp += 1\n",
    "            elif userinput in ['h', 'heal'] and usersp >= 2:\n",
    "                minheal = userheal - 4\n",
    "                heal_amount = randint(minheal, userheal)\n",
    "                print(f'You healed {heal_amount} health.')\n",
    "                userhp += heal_amount\n",
    "                usersp -= 2\n",
    "            elif userinput in ['s', 'smash'] and usersp >= 3:\n",
    "                minsmash = usersmash - 3\n",
    "                smashatk = randint(minsmash,usersmash)\n",
    "                print(f'You smashed Goblin for {smashatk} dmg!!!')\n",
    "                goblinhp -= smashatk\n",
    "                usersp -= 3\n",
    "            else:\n",
    "                print('Not enough sp.')\n",
    "                continue\n",
    "        else:\n",
    "            print(\"Invalid response.\")\n",
    "            continue\n",
    "        if goblinhp <= 0:\n",
    "                    print('You have won!!!')\n",
    "                    wins += 1\n",
    "                    print(f'Wins: {wins}')\n",
    "                    print('Rewards: Hp boosted, Sp boosted')\n",
    "                    userhp += 5\n",
    "                    usersp += 2\n",
    "                    userprize = input(\"Pick a prize: 1_HealUP, 2_AtkUP, 3_SmashUP\").strip().lower()\n",
    "                    if userprize in ['1', 'healup', 'h']:\n",
    "                        userheal += 3\n",
    "                        print('Upgraded Heal!')\n",
    "                    elif userprize in ['2', 'atkup', 'a']:\n",
    "                        useratk += 2\n",
    "                        print('Upgraded Attack!')\n",
    "                    elif userprize in ['3', 'smashup', 's']:\n",
    "                        usersmash += 6\n",
    "                        print('Upgraded Smash!')\n",
    "                    else:\n",
    "                        print('Oops invalid response, No reward!!!')\n",
    "                    break\n",
    "        goblinTurn()\n",
    "        if userhp <= 0:\n",
    "                print('You have been defeated!')\n",
    "                break\n",
    "print('Game Over')"
   ]
  },
  {
   "cell_type": "code",
   "execution_count": 20,
   "id": "c6df95f9-e6b1-4b90-94cd-5def851b03e1",
   "metadata": {},
   "outputs": [
    {
     "name": "stdout",
     "output_type": "stream",
     "text": [
      "Welcome to the Gulag.\n",
      "Your enemy is the goblin, prepare for battle!\n",
      "You: 30 hp  5 sp\n",
      "Goblin: 25 hp\n"
     ]
    },
    {
     "name": "stdin",
     "output_type": "stream",
     "text": [
      "Do you want to 'atk', 'heal', 'smash', or 'rest'? s\n"
     ]
    },
    {
     "name": "stdout",
     "output_type": "stream",
     "text": [
      "You smashed Goblin for 7 dmg!!!\n",
      "Goblin hurled a rock at you! 10 dmg!!!\n",
      "You: 20 hp  2 sp\n",
      "Goblin: 18 hp\n"
     ]
    },
    {
     "name": "stdin",
     "output_type": "stream",
     "text": [
      "Do you want to 'atk', 'heal', 'smash', or 'rest'? h\n"
     ]
    },
    {
     "name": "stdout",
     "output_type": "stream",
     "text": [
      "You healed 5 health.\n",
      "You: 25 hp  0 sp\n",
      "Goblin: 18 hp\n"
     ]
    },
    {
     "name": "stdin",
     "output_type": "stream",
     "text": [
      "Do you want to 'atk', 'heal', 'smash', or 'rest'? r\n"
     ]
    },
    {
     "name": "stdout",
     "output_type": "stream",
     "text": [
      "Goblin dealt 3 dmg to you!\n",
      "You: 22 hp  4 sp\n",
      "Goblin: 18 hp\n"
     ]
    },
    {
     "name": "stdin",
     "output_type": "stream",
     "text": [
      "Do you want to 'atk', 'heal', 'smash', or 'rest'? s\n"
     ]
    },
    {
     "name": "stdout",
     "output_type": "stream",
     "text": [
      "You smashed Goblin for 6 dmg!!!\n",
      "Goblin healed 4 health.\n",
      "You: 22 hp  1 sp\n",
      "Goblin: 16 hp\n"
     ]
    },
    {
     "name": "stdin",
     "output_type": "stream",
     "text": [
      "Do you want to 'atk', 'heal', 'smash', or 'rest'? r\n"
     ]
    },
    {
     "name": "stdout",
     "output_type": "stream",
     "text": [
      "Goblin dealt 2 dmg to you!\n",
      "You: 20 hp  5 sp\n",
      "Goblin: 16 hp\n"
     ]
    },
    {
     "name": "stdin",
     "output_type": "stream",
     "text": [
      "Do you want to 'atk', 'heal', 'smash', or 'rest'? s\n"
     ]
    },
    {
     "name": "stdout",
     "output_type": "stream",
     "text": [
      "You smashed Goblin for 5 dmg!!!\n",
      "Goblin healed 1 health.\n",
      "You: 20 hp  2 sp\n",
      "Goblin: 12 hp\n"
     ]
    },
    {
     "name": "stdin",
     "output_type": "stream",
     "text": [
      "Do you want to 'atk', 'heal', 'smash', or 'rest'? r\n"
     ]
    },
    {
     "name": "stdout",
     "output_type": "stream",
     "text": [
      "Goblin dealt 2 dmg to you!\n",
      "You: 18 hp  6 sp\n",
      "Goblin: 12 hp\n"
     ]
    },
    {
     "name": "stdin",
     "output_type": "stream",
     "text": [
      "Do you want to 'atk', 'heal', 'smash', or 'rest'? s\n"
     ]
    },
    {
     "name": "stdout",
     "output_type": "stream",
     "text": [
      "You smashed Goblin for 7 dmg!!!\n",
      "Goblin dealt 3 dmg to you!\n",
      "You: 15 hp  3 sp\n",
      "Goblin: 5 hp\n"
     ]
    },
    {
     "name": "stdin",
     "output_type": "stream",
     "text": [
      "Do you want to 'atk', 'heal', 'smash', or 'rest'? s\n"
     ]
    },
    {
     "name": "stdout",
     "output_type": "stream",
     "text": [
      "You smashed Goblin for 6 dmg!!!\n",
      "You have won!!!\n",
      "Wins: 1\n",
      "Rewards: Hp boosted, Sp boosted\n"
     ]
    },
    {
     "name": "stdin",
     "output_type": "stream",
     "text": [
      "Pick a prize: 1_HealUP, 2_AtkUP, 3_SmashUP s\n"
     ]
    },
    {
     "name": "stdout",
     "output_type": "stream",
     "text": [
      "Upgraded Smash!\n",
      "You: 20 hp  2 sp\n",
      "Goblin: 25 hp\n"
     ]
    },
    {
     "name": "stdin",
     "output_type": "stream",
     "text": [
      "Do you want to 'atk', 'heal', 'smash', or 'rest'? h\n"
     ]
    },
    {
     "name": "stdout",
     "output_type": "stream",
     "text": [
      "You healed 1 health.\n",
      "Goblin healed 4 health.\n",
      "You: 21 hp  0 sp\n",
      "Goblin: 29 hp\n"
     ]
    },
    {
     "name": "stdin",
     "output_type": "stream",
     "text": [
      "Do you want to 'atk', 'heal', 'smash', or 'rest'? r\n"
     ]
    },
    {
     "name": "stdout",
     "output_type": "stream",
     "text": [
      "Goblin healed 2 health.\n",
      "You: 21 hp  4 sp\n",
      "Goblin: 31 hp\n"
     ]
    },
    {
     "name": "stdin",
     "output_type": "stream",
     "text": [
      "Do you want to 'atk', 'heal', 'smash', or 'rest'? s\n"
     ]
    },
    {
     "name": "stdout",
     "output_type": "stream",
     "text": [
      "You smashed Goblin for 9 dmg!!!\n",
      "Goblin dealt 1 dmg to you!\n",
      "You: 20 hp  1 sp\n",
      "Goblin: 22 hp\n"
     ]
    },
    {
     "name": "stdin",
     "output_type": "stream",
     "text": [
      "Do you want to 'atk', 'heal', 'smash', or 'rest'? r\n"
     ]
    },
    {
     "name": "stdout",
     "output_type": "stream",
     "text": [
      "Goblin dealt 2 dmg to you!\n",
      "You: 18 hp  5 sp\n",
      "Goblin: 22 hp\n"
     ]
    },
    {
     "name": "stdin",
     "output_type": "stream",
     "text": [
      "Do you want to 'atk', 'heal', 'smash', or 'rest'? s\n"
     ]
    },
    {
     "name": "stdout",
     "output_type": "stream",
     "text": [
      "You smashed Goblin for 9 dmg!!!\n",
      "Goblin hurled a rock at you! 7 dmg!!!\n",
      "You: 11 hp  2 sp\n",
      "Goblin: 13 hp\n"
     ]
    },
    {
     "name": "stdin",
     "output_type": "stream",
     "text": [
      "Do you want to 'atk', 'heal', 'smash', or 'rest'? r\n"
     ]
    },
    {
     "name": "stdout",
     "output_type": "stream",
     "text": [
      "Goblin dealt 2 dmg to you!\n",
      "You: 9 hp  6 sp\n",
      "Goblin: 13 hp\n"
     ]
    },
    {
     "name": "stdin",
     "output_type": "stream",
     "text": [
      "Do you want to 'atk', 'heal', 'smash', or 'rest'? h\n"
     ]
    },
    {
     "name": "stdout",
     "output_type": "stream",
     "text": [
      "You healed 5 health.\n",
      "Goblin dealt 1 dmg to you!\n",
      "You: 13 hp  4 sp\n",
      "Goblin: 13 hp\n"
     ]
    },
    {
     "name": "stdin",
     "output_type": "stream",
     "text": [
      "Do you want to 'atk', 'heal', 'smash', or 'rest'? s\n"
     ]
    },
    {
     "name": "stdout",
     "output_type": "stream",
     "text": [
      "You smashed Goblin for 10 dmg!!!\n",
      "Goblin healed 2 health.\n",
      "You: 13 hp  1 sp\n",
      "Goblin: 5 hp\n"
     ]
    },
    {
     "name": "stdin",
     "output_type": "stream",
     "text": [
      "Do you want to 'atk', 'heal', 'smash', or 'rest'? a\n"
     ]
    },
    {
     "name": "stdout",
     "output_type": "stream",
     "text": [
      "You dealt 3 dmg to goblin...\n",
      "Goblin dealt 1 dmg to you!\n",
      "You: 12 hp  2 sp\n",
      "Goblin: 2 hp\n"
     ]
    },
    {
     "name": "stdin",
     "output_type": "stream",
     "text": [
      "Do you want to 'atk', 'heal', 'smash', or 'rest'? a\n"
     ]
    },
    {
     "name": "stdout",
     "output_type": "stream",
     "text": [
      "You dealt 3 dmg to goblin...\n",
      "You have won!!!\n",
      "Wins: 2\n",
      "Rewards: Hp boosted, Sp boosted\n"
     ]
    },
    {
     "name": "stdin",
     "output_type": "stream",
     "text": [
      "Pick a prize: 1_HealUP, 2_AtkUP, 3_SmashUP a\n"
     ]
    },
    {
     "name": "stdout",
     "output_type": "stream",
     "text": [
      "Upgraded Attack!\n",
      "You: 17 hp  5 sp\n",
      "Goblin: 25 hp\n"
     ]
    },
    {
     "name": "stdin",
     "output_type": "stream",
     "text": [
      "Do you want to 'atk', 'heal', 'smash', or 'rest'? s\n"
     ]
    },
    {
     "name": "stdout",
     "output_type": "stream",
     "text": [
      "You smashed Goblin for 10 dmg!!!\n",
      "Goblin dealt 3 dmg to you!\n",
      "You: 14 hp  2 sp\n",
      "Goblin: 15 hp\n"
     ]
    },
    {
     "name": "stdin",
     "output_type": "stream",
     "text": [
      "Do you want to 'atk', 'heal', 'smash', or 'rest'? a\n"
     ]
    },
    {
     "name": "stdout",
     "output_type": "stream",
     "text": [
      "You dealt 4 dmg to goblin...\n",
      "Goblin healed 2 health.\n",
      "You: 14 hp  3 sp\n",
      "Goblin: 13 hp\n"
     ]
    },
    {
     "name": "stdin",
     "output_type": "stream",
     "text": [
      "Do you want to 'atk', 'heal', 'smash', or 'rest'? s\n"
     ]
    },
    {
     "name": "stdout",
     "output_type": "stream",
     "text": [
      "You smashed Goblin for 10 dmg!!!\n",
      "Goblin healed 3 health.\n",
      "You: 14 hp  0 sp\n",
      "Goblin: 6 hp\n"
     ]
    },
    {
     "name": "stdin",
     "output_type": "stream",
     "text": [
      "Do you want to 'atk', 'heal', 'smash', or 'rest'? a\n"
     ]
    },
    {
     "name": "stdout",
     "output_type": "stream",
     "text": [
      "You dealt 3 dmg to goblin...\n",
      "Goblin healed 2 health.\n",
      "You: 14 hp  1 sp\n",
      "Goblin: 5 hp\n"
     ]
    },
    {
     "name": "stdin",
     "output_type": "stream",
     "text": [
      "Do you want to 'atk', 'heal', 'smash', or 'rest'? a\n"
     ]
    },
    {
     "name": "stdout",
     "output_type": "stream",
     "text": [
      "You dealt 7 dmg to goblin...\n",
      "You have won!!!\n",
      "Wins: 3\n",
      "Rewards: Hp boosted, Sp boosted\n"
     ]
    },
    {
     "name": "stdin",
     "output_type": "stream",
     "text": [
      "Pick a prize: 1_HealUP, 2_AtkUP, 3_SmashUP s\n"
     ]
    },
    {
     "name": "stdout",
     "output_type": "stream",
     "text": [
      "Upgraded Smash!\n",
      "You: 19 hp  4 sp\n",
      "Goblin: 25 hp\n"
     ]
    },
    {
     "name": "stdin",
     "output_type": "stream",
     "text": [
      "Do you want to 'atk', 'heal', 'smash', or 'rest'? s\n"
     ]
    },
    {
     "name": "stdout",
     "output_type": "stream",
     "text": [
      "You smashed Goblin for 15 dmg!!!\n",
      "Goblin healed 3 health.\n",
      "You: 19 hp  1 sp\n",
      "Goblin: 13 hp\n"
     ]
    },
    {
     "name": "stdin",
     "output_type": "stream",
     "text": [
      "Do you want to 'atk', 'heal', 'smash', or 'rest'? a\n"
     ]
    },
    {
     "name": "stdout",
     "output_type": "stream",
     "text": [
      "You dealt 3 dmg to goblin...\n",
      "Goblin dealt 1 dmg to you!\n",
      "You: 18 hp  2 sp\n",
      "Goblin: 10 hp\n"
     ]
    },
    {
     "name": "stdin",
     "output_type": "stream",
     "text": [
      "Do you want to 'atk', 'heal', 'smash', or 'rest'? a\n"
     ]
    },
    {
     "name": "stdout",
     "output_type": "stream",
     "text": [
      "You dealt 6 dmg to goblin...\n",
      "Goblin hurled a rock at you! 6 dmg!!!\n",
      "You: 12 hp  3 sp\n",
      "Goblin: 4 hp\n"
     ]
    },
    {
     "name": "stdin",
     "output_type": "stream",
     "text": [
      "Do you want to 'atk', 'heal', 'smash', or 'rest'? a\n"
     ]
    },
    {
     "name": "stdout",
     "output_type": "stream",
     "text": [
      "You dealt 3 dmg to goblin...\n",
      "Goblin dealt 3 dmg to you!\n",
      "You: 9 hp  4 sp\n",
      "Goblin: 1 hp\n"
     ]
    },
    {
     "name": "stdin",
     "output_type": "stream",
     "text": [
      "Do you want to 'atk', 'heal', 'smash', or 'rest'? a\n"
     ]
    },
    {
     "name": "stdout",
     "output_type": "stream",
     "text": [
      "You dealt 4 dmg to goblin...\n",
      "You have won!!!\n",
      "Wins: 4\n",
      "Rewards: Hp boosted, Sp boosted\n"
     ]
    },
    {
     "name": "stdin",
     "output_type": "stream",
     "text": [
      "Pick a prize: 1_HealUP, 2_AtkUP, 3_SmashUP s\n"
     ]
    },
    {
     "name": "stdout",
     "output_type": "stream",
     "text": [
      "Upgraded Smash!\n",
      "You: 14 hp  7 sp\n",
      "Goblin: 25 hp\n"
     ]
    },
    {
     "name": "stdin",
     "output_type": "stream",
     "text": [
      "Do you want to 'atk', 'heal', 'smash', or 'rest'? s\n"
     ]
    },
    {
     "name": "stdout",
     "output_type": "stream",
     "text": [
      "You smashed Goblin for 17 dmg!!!\n",
      "Goblin dealt 3 dmg to you!\n",
      "You: 11 hp  4 sp\n",
      "Goblin: 8 hp\n"
     ]
    },
    {
     "name": "stdin",
     "output_type": "stream",
     "text": [
      "Do you want to 'atk', 'heal', 'smash', or 'rest'? a\n"
     ]
    },
    {
     "name": "stdout",
     "output_type": "stream",
     "text": [
      "You dealt 7 dmg to goblin...\n",
      "Goblin dealt 1 dmg to you!\n",
      "You: 10 hp  5 sp\n",
      "Goblin: 1 hp\n"
     ]
    },
    {
     "name": "stdin",
     "output_type": "stream",
     "text": [
      "Do you want to 'atk', 'heal', 'smash', or 'rest'? a\n"
     ]
    },
    {
     "name": "stdout",
     "output_type": "stream",
     "text": [
      "You dealt 4 dmg to goblin...\n",
      "You have won!!!\n",
      "Wins: 5\n",
      "Rewards: Hp boosted, Sp boosted\n"
     ]
    },
    {
     "name": "stdin",
     "output_type": "stream",
     "text": [
      "Pick a prize: 1_HealUP, 2_AtkUP, 3_SmashUP h\n"
     ]
    },
    {
     "name": "stdout",
     "output_type": "stream",
     "text": [
      "Upgraded Heal!\n",
      "You: 15 hp  8 sp\n",
      "Goblin: 25 hp\n"
     ]
    },
    {
     "name": "stdin",
     "output_type": "stream",
     "text": [
      "Do you want to 'atk', 'heal', 'smash', or 'rest'? s\n"
     ]
    },
    {
     "name": "stdout",
     "output_type": "stream",
     "text": [
      "You smashed Goblin for 18 dmg!!!\n",
      "Goblin dealt 3 dmg to you!\n",
      "You: 12 hp  5 sp\n",
      "Goblin: 7 hp\n"
     ]
    },
    {
     "name": "stdin",
     "output_type": "stream",
     "text": [
      "Do you want to 'atk', 'heal', 'smash', or 'rest'? a\n"
     ]
    },
    {
     "name": "stdout",
     "output_type": "stream",
     "text": [
      "You dealt 7 dmg to goblin...\n",
      "You have won!!!\n",
      "Wins: 6\n",
      "Rewards: Hp boosted, Sp boosted\n"
     ]
    },
    {
     "name": "stdin",
     "output_type": "stream",
     "text": [
      "Pick a prize: 1_HealUP, 2_AtkUP, 3_SmashUP s\n"
     ]
    },
    {
     "name": "stdout",
     "output_type": "stream",
     "text": [
      "Upgraded Smash!\n",
      "You: 17 hp  8 sp\n",
      "Goblin: 25 hp\n"
     ]
    },
    {
     "name": "stdin",
     "output_type": "stream",
     "text": [
      "Do you want to 'atk', 'heal', 'smash', or 'rest'? s\n"
     ]
    },
    {
     "name": "stdout",
     "output_type": "stream",
     "text": [
      "You smashed Goblin for 22 dmg!!!\n",
      "Goblin hurled a rock at you! 6 dmg!!!\n",
      "You: 11 hp  5 sp\n",
      "Goblin: 3 hp\n"
     ]
    },
    {
     "name": "stdin",
     "output_type": "stream",
     "text": [
      "Do you want to 'atk', 'heal', 'smash', or 'rest'? a\n"
     ]
    },
    {
     "name": "stdout",
     "output_type": "stream",
     "text": [
      "You dealt 6 dmg to goblin...\n",
      "You have won!!!\n",
      "Wins: 7\n",
      "Rewards: Hp boosted, Sp boosted\n"
     ]
    },
    {
     "name": "stdin",
     "output_type": "stream",
     "text": [
      "Pick a prize: 1_HealUP, 2_AtkUP, 3_SmashUP h\n"
     ]
    },
    {
     "name": "stdout",
     "output_type": "stream",
     "text": [
      "Upgraded Heal!\n",
      "You: 16 hp  8 sp\n",
      "Goblin: 25 hp\n"
     ]
    },
    {
     "name": "stdin",
     "output_type": "stream",
     "text": [
      "Do you want to 'atk', 'heal', 'smash', or 'rest'? s\n"
     ]
    },
    {
     "name": "stdout",
     "output_type": "stream",
     "text": [
      "You smashed Goblin for 21 dmg!!!\n",
      "Goblin hurled a rock at you! 9 dmg!!!\n",
      "You: 7 hp  5 sp\n",
      "Goblin: 4 hp\n"
     ]
    },
    {
     "name": "stdin",
     "output_type": "stream",
     "text": [
      "Do you want to 'atk', 'heal', 'smash', or 'rest'? a\n"
     ]
    },
    {
     "name": "stdout",
     "output_type": "stream",
     "text": [
      "You dealt 7 dmg to goblin...\n",
      "You have won!!!\n",
      "Wins: 8\n",
      "Rewards: Hp boosted, Sp boosted\n"
     ]
    },
    {
     "name": "stdin",
     "output_type": "stream",
     "text": [
      "Pick a prize: 1_HealUP, 2_AtkUP, 3_SmashUP h\n"
     ]
    },
    {
     "name": "stdout",
     "output_type": "stream",
     "text": [
      "Upgraded Heal!\n",
      "You: 12 hp  8 sp\n",
      "Goblin: 25 hp\n"
     ]
    },
    {
     "name": "stdin",
     "output_type": "stream",
     "text": [
      "Do you want to 'atk', 'heal', 'smash', or 'rest'? h\n"
     ]
    },
    {
     "name": "stdout",
     "output_type": "stream",
     "text": [
      "You healed 11 health.\n",
      "Goblin hurled a rock at you! 8 dmg!!!\n",
      "You: 15 hp  6 sp\n",
      "Goblin: 25 hp\n"
     ]
    },
    {
     "name": "stdin",
     "output_type": "stream",
     "text": [
      "Do you want to 'atk', 'heal', 'smash', or 'rest'? s\n"
     ]
    },
    {
     "name": "stdout",
     "output_type": "stream",
     "text": [
      "You smashed Goblin for 23 dmg!!!\n",
      "Goblin dealt 1 dmg to you!\n",
      "You: 14 hp  3 sp\n",
      "Goblin: 2 hp\n"
     ]
    },
    {
     "name": "stdin",
     "output_type": "stream",
     "text": [
      "Do you want to 'atk', 'heal', 'smash', or 'rest'? a\n"
     ]
    },
    {
     "name": "stdout",
     "output_type": "stream",
     "text": [
      "You dealt 6 dmg to goblin...\n",
      "You have won!!!\n",
      "Wins: 9\n",
      "Rewards: Hp boosted, Sp boosted\n"
     ]
    },
    {
     "name": "stdin",
     "output_type": "stream",
     "text": [
      "Pick a prize: 1_HealUP, 2_AtkUP, 3_SmashUP s\n"
     ]
    },
    {
     "name": "stdout",
     "output_type": "stream",
     "text": [
      "Upgraded Smash!\n",
      "You: 19 hp  6 sp\n",
      "Goblin: 25 hp\n"
     ]
    },
    {
     "name": "stdin",
     "output_type": "stream",
     "text": [
      "Do you want to 'atk', 'heal', 'smash', or 'rest'? s\n"
     ]
    },
    {
     "name": "stdout",
     "output_type": "stream",
     "text": [
      "You smashed Goblin for 27 dmg!!!\n",
      "You have won!!!\n",
      "Wins: 10\n",
      "Rewards: Hp boosted, Sp boosted\n"
     ]
    },
    {
     "name": "stdin",
     "output_type": "stream",
     "text": [
      "Pick a prize: 1_HealUP, 2_AtkUP, 3_SmashUP h\n"
     ]
    },
    {
     "name": "stdout",
     "output_type": "stream",
     "text": [
      "Upgraded Heal!\n",
      "The goblins grow stronger!!!\n",
      "You: 24 hp  5 sp\n",
      "Goblin: 50 hp\n"
     ]
    },
    {
     "name": "stdin",
     "output_type": "stream",
     "text": [
      "Do you want to 'atk', 'heal', 'smash', or 'rest'? s\n"
     ]
    },
    {
     "name": "stdout",
     "output_type": "stream",
     "text": [
      "You smashed Goblin for 25 dmg!!!\n",
      "Goblin healed 10 health.\n",
      "You: 24 hp  2 sp\n",
      "Goblin: 35 hp\n"
     ]
    },
    {
     "name": "stdin",
     "output_type": "stream",
     "text": [
      "Do you want to 'atk', 'heal', 'smash', or 'rest'? h\n"
     ]
    },
    {
     "name": "stdout",
     "output_type": "stream",
     "text": [
      "You healed 13 health.\n",
      "Goblin healed 10 health.\n",
      "You: 37 hp  0 sp\n",
      "Goblin: 45 hp\n"
     ]
    },
    {
     "name": "stdin",
     "output_type": "stream",
     "text": [
      "Do you want to 'atk', 'heal', 'smash', or 'rest'? r\n"
     ]
    },
    {
     "name": "stdout",
     "output_type": "stream",
     "text": [
      "Goblin hurled a rock at you! 17 dmg!!!\n",
      "You: 20 hp  4 sp\n",
      "Goblin: 45 hp\n"
     ]
    },
    {
     "name": "stdin",
     "output_type": "stream",
     "text": [
      "Do you want to 'atk', 'heal', 'smash', or 'rest'? h\n"
     ]
    },
    {
     "name": "stdout",
     "output_type": "stream",
     "text": [
      "You healed 11 health.\n",
      "Goblin healed 6 health.\n",
      "You: 31 hp  2 sp\n",
      "Goblin: 51 hp\n"
     ]
    },
    {
     "name": "stdin",
     "output_type": "stream",
     "text": [
      "Do you want to 'atk', 'heal', 'smash', or 'rest'? r\n"
     ]
    },
    {
     "name": "stdout",
     "output_type": "stream",
     "text": [
      "Goblin dealt 6 dmg to you!\n",
      "You: 25 hp  6 sp\n",
      "Goblin: 51 hp\n"
     ]
    },
    {
     "name": "stdin",
     "output_type": "stream",
     "text": [
      "Do you want to 'atk', 'heal', 'smash', or 'rest'? s\n"
     ]
    },
    {
     "name": "stdout",
     "output_type": "stream",
     "text": [
      "You smashed Goblin for 27 dmg!!!\n",
      "You: 25 hp  3 sp\n",
      "Goblin: 24 hp\n"
     ]
    },
    {
     "name": "stdin",
     "output_type": "stream",
     "text": [
      "Do you want to 'atk', 'heal', 'smash', or 'rest'? s\n"
     ]
    },
    {
     "name": "stdout",
     "output_type": "stream",
     "text": [
      "You smashed Goblin for 25 dmg!!!\n",
      "You have won!!!\n",
      "Wins: 11\n",
      "Rewards: Hp boosted, Sp boosted\n"
     ]
    },
    {
     "name": "stdin",
     "output_type": "stream",
     "text": [
      "Pick a prize: 1_HealUP, 2_AtkUP, 3_SmashUP h\n"
     ]
    },
    {
     "name": "stdout",
     "output_type": "stream",
     "text": [
      "Upgraded Heal!\n",
      "You: 30 hp  2 sp\n",
      "Goblin: 50 hp\n"
     ]
    },
    {
     "name": "stdin",
     "output_type": "stream",
     "text": [
      "Do you want to 'atk', 'heal', 'smash', or 'rest'? h\n"
     ]
    },
    {
     "name": "stdout",
     "output_type": "stream",
     "text": [
      "You healed 12 health.\n",
      "Goblin hurled a rock at you! 16 dmg!!!\n",
      "You: 26 hp  0 sp\n",
      "Goblin: 50 hp\n"
     ]
    },
    {
     "name": "stdin",
     "output_type": "stream",
     "text": [
      "Do you want to 'atk', 'heal', 'smash', or 'rest'? r\n"
     ]
    },
    {
     "name": "stdout",
     "output_type": "stream",
     "text": [
      "Goblin hurled a rock at you! 17 dmg!!!\n",
      "You: 9 hp  4 sp\n",
      "Goblin: 50 hp\n"
     ]
    },
    {
     "name": "stdin",
     "output_type": "stream",
     "text": [
      "Do you want to 'atk', 'heal', 'smash', or 'rest'? h\n"
     ]
    },
    {
     "name": "stdout",
     "output_type": "stream",
     "text": [
      "You healed 11 health.\n",
      "Goblin hurled a rock at you! 16 dmg!!!\n",
      "You: 4 hp  2 sp\n",
      "Goblin: 50 hp\n"
     ]
    },
    {
     "name": "stdin",
     "output_type": "stream",
     "text": [
      "Do you want to 'atk', 'heal', 'smash', or 'rest'? h\n"
     ]
    },
    {
     "name": "stdout",
     "output_type": "stream",
     "text": [
      "You healed 15 health.\n",
      "Goblin dealt 5 dmg to you!\n",
      "You: 14 hp  0 sp\n",
      "Goblin: 50 hp\n"
     ]
    },
    {
     "name": "stdin",
     "output_type": "stream",
     "text": [
      "Do you want to 'atk', 'heal', 'smash', or 'rest'? r\n"
     ]
    },
    {
     "name": "stdout",
     "output_type": "stream",
     "text": [
      "Goblin dealt 6 dmg to you!\n",
      "You: 8 hp  4 sp\n",
      "Goblin: 50 hp\n"
     ]
    },
    {
     "name": "stdin",
     "output_type": "stream",
     "text": [
      "Do you want to 'atk', 'heal', 'smash', or 'rest'? h\n"
     ]
    },
    {
     "name": "stdout",
     "output_type": "stream",
     "text": [
      "You healed 12 health.\n",
      "Goblin healed 8 health.\n",
      "You: 20 hp  2 sp\n",
      "Goblin: 58 hp\n"
     ]
    },
    {
     "name": "stdin",
     "output_type": "stream",
     "text": [
      "Do you want to 'atk', 'heal', 'smash', or 'rest'? h\n"
     ]
    },
    {
     "name": "stdout",
     "output_type": "stream",
     "text": [
      "You healed 13 health.\n",
      "Goblin dealt 4 dmg to you!\n",
      "You: 29 hp  0 sp\n",
      "Goblin: 58 hp\n"
     ]
    },
    {
     "name": "stdin",
     "output_type": "stream",
     "text": [
      "Do you want to 'atk', 'heal', 'smash', or 'rest'? r\n"
     ]
    },
    {
     "name": "stdout",
     "output_type": "stream",
     "text": [
      "Goblin healed 7 health.\n",
      "You: 29 hp  4 sp\n",
      "Goblin: 65 hp\n"
     ]
    },
    {
     "name": "stdin",
     "output_type": "stream",
     "text": [
      "Do you want to 'atk', 'heal', 'smash', or 'rest'? h\n"
     ]
    },
    {
     "name": "stdout",
     "output_type": "stream",
     "text": [
      "You healed 11 health.\n",
      "Goblin dealt 4 dmg to you!\n",
      "You: 36 hp  2 sp\n",
      "Goblin: 65 hp\n"
     ]
    },
    {
     "name": "stdin",
     "output_type": "stream",
     "text": [
      "Do you want to 'atk', 'heal', 'smash', or 'rest'? h\n"
     ]
    },
    {
     "name": "stdout",
     "output_type": "stream",
     "text": [
      "You healed 12 health.\n",
      "Goblin dealt 6 dmg to you!\n",
      "You: 42 hp  0 sp\n",
      "Goblin: 65 hp\n"
     ]
    },
    {
     "name": "stdin",
     "output_type": "stream",
     "text": [
      "Do you want to 'atk', 'heal', 'smash', or 'rest'? r\n"
     ]
    },
    {
     "name": "stdout",
     "output_type": "stream",
     "text": [
      "Goblin dealt 5 dmg to you!\n",
      "You: 37 hp  4 sp\n",
      "Goblin: 65 hp\n"
     ]
    },
    {
     "name": "stdin",
     "output_type": "stream",
     "text": [
      "Do you want to 'atk', 'heal', 'smash', or 'rest'? h\n"
     ]
    },
    {
     "name": "stdout",
     "output_type": "stream",
     "text": [
      "You healed 13 health.\n",
      "Goblin dealt 4 dmg to you!\n",
      "You: 46 hp  2 sp\n",
      "Goblin: 65 hp\n"
     ]
    },
    {
     "name": "stdin",
     "output_type": "stream",
     "text": [
      "Do you want to 'atk', 'heal', 'smash', or 'rest'? h\n"
     ]
    },
    {
     "name": "stdout",
     "output_type": "stream",
     "text": [
      "You healed 14 health.\n",
      "Goblin dealt 6 dmg to you!\n",
      "You: 54 hp  0 sp\n",
      "Goblin: 65 hp\n"
     ]
    },
    {
     "name": "stdin",
     "output_type": "stream",
     "text": [
      "Do you want to 'atk', 'heal', 'smash', or 'rest'? r\n"
     ]
    },
    {
     "name": "stdout",
     "output_type": "stream",
     "text": [
      "Goblin healed 6 health.\n",
      "You: 54 hp  4 sp\n",
      "Goblin: 71 hp\n"
     ]
    },
    {
     "name": "stdin",
     "output_type": "stream",
     "text": [
      "Do you want to 'atk', 'heal', 'smash', or 'rest'? h\n"
     ]
    },
    {
     "name": "stdout",
     "output_type": "stream",
     "text": [
      "You healed 12 health.\n",
      "Goblin healed 7 health.\n",
      "You: 66 hp  2 sp\n",
      "Goblin: 78 hp\n"
     ]
    },
    {
     "name": "stdin",
     "output_type": "stream",
     "text": [
      "Do you want to 'atk', 'heal', 'smash', or 'rest'? h\n"
     ]
    },
    {
     "name": "stdout",
     "output_type": "stream",
     "text": [
      "You healed 14 health.\n",
      "Goblin dealt 5 dmg to you!\n",
      "You: 75 hp  0 sp\n",
      "Goblin: 78 hp\n"
     ]
    },
    {
     "name": "stdin",
     "output_type": "stream",
     "text": [
      "Do you want to 'atk', 'heal', 'smash', or 'rest'? r\n"
     ]
    },
    {
     "name": "stdout",
     "output_type": "stream",
     "text": [
      "You: 75 hp  4 sp\n",
      "Goblin: 78 hp\n"
     ]
    },
    {
     "name": "stdin",
     "output_type": "stream",
     "text": [
      "Do you want to 'atk', 'heal', 'smash', or 'rest'? h\n"
     ]
    },
    {
     "name": "stdout",
     "output_type": "stream",
     "text": [
      "You healed 15 health.\n",
      "Goblin dealt 6 dmg to you!\n",
      "You: 84 hp  2 sp\n",
      "Goblin: 78 hp\n"
     ]
    },
    {
     "name": "stdin",
     "output_type": "stream",
     "text": [
      "Do you want to 'atk', 'heal', 'smash', or 'rest'? h\n"
     ]
    },
    {
     "name": "stdout",
     "output_type": "stream",
     "text": [
      "You healed 15 health.\n",
      "Goblin hurled a rock at you! 18 dmg!!!\n",
      "You: 81 hp  0 sp\n",
      "Goblin: 78 hp\n"
     ]
    },
    {
     "name": "stdin",
     "output_type": "stream",
     "text": [
      "Do you want to 'atk', 'heal', 'smash', or 'rest'? r\n"
     ]
    },
    {
     "name": "stdout",
     "output_type": "stream",
     "text": [
      "Goblin dealt 4 dmg to you!\n",
      "You: 77 hp  4 sp\n",
      "Goblin: 78 hp\n"
     ]
    },
    {
     "name": "stdin",
     "output_type": "stream",
     "text": [
      "Do you want to 'atk', 'heal', 'smash', or 'rest'? s\n"
     ]
    },
    {
     "name": "stdout",
     "output_type": "stream",
     "text": [
      "You smashed Goblin for 25 dmg!!!\n",
      "Goblin dealt 4 dmg to you!\n",
      "You: 73 hp  1 sp\n",
      "Goblin: 53 hp\n"
     ]
    },
    {
     "name": "stdin",
     "output_type": "stream",
     "text": [
      "Do you want to 'atk', 'heal', 'smash', or 'rest'? r\n"
     ]
    },
    {
     "name": "stdout",
     "output_type": "stream",
     "text": [
      "Goblin dealt 6 dmg to you!\n",
      "You: 67 hp  5 sp\n",
      "Goblin: 53 hp\n"
     ]
    },
    {
     "name": "stdin",
     "output_type": "stream",
     "text": [
      "Do you want to 'atk', 'heal', 'smash', or 'rest'? s\n"
     ]
    },
    {
     "name": "stdout",
     "output_type": "stream",
     "text": [
      "You smashed Goblin for 25 dmg!!!\n",
      "Goblin healed 7 health.\n",
      "You: 67 hp  2 sp\n",
      "Goblin: 35 hp\n"
     ]
    },
    {
     "name": "stdin",
     "output_type": "stream",
     "text": [
      "Do you want to 'atk', 'heal', 'smash', or 'rest'? r\n"
     ]
    },
    {
     "name": "stdout",
     "output_type": "stream",
     "text": [
      "Goblin dealt 5 dmg to you!\n",
      "You: 62 hp  6 sp\n",
      "Goblin: 35 hp\n"
     ]
    },
    {
     "name": "stdin",
     "output_type": "stream",
     "text": [
      "Do you want to 'atk', 'heal', 'smash', or 'rest'? s\n"
     ]
    },
    {
     "name": "stdout",
     "output_type": "stream",
     "text": [
      "You smashed Goblin for 28 dmg!!!\n",
      "Goblin healed 8 health.\n",
      "You: 62 hp  3 sp\n",
      "Goblin: 15 hp\n"
     ]
    },
    {
     "name": "stdin",
     "output_type": "stream",
     "text": [
      "Do you want to 'atk', 'heal', 'smash', or 'rest'? s\n"
     ]
    },
    {
     "name": "stdout",
     "output_type": "stream",
     "text": [
      "You smashed Goblin for 27 dmg!!!\n",
      "You have won!!!\n",
      "Wins: 12\n",
      "Rewards: Hp boosted, Sp boosted\n"
     ]
    },
    {
     "name": "stdin",
     "output_type": "stream",
     "text": [
      "Pick a prize: 1_HealUP, 2_AtkUP, 3_SmashUP s\n"
     ]
    },
    {
     "name": "stdout",
     "output_type": "stream",
     "text": [
      "Upgraded Smash!\n",
      "You: 67 hp  2 sp\n",
      "Goblin: 50 hp\n"
     ]
    },
    {
     "name": "stdin",
     "output_type": "stream",
     "text": [
      "Do you want to 'atk', 'heal', 'smash', or 'rest'? r\n"
     ]
    },
    {
     "name": "stdout",
     "output_type": "stream",
     "text": [
      "Goblin hurled a rock at you! 18 dmg!!!\n",
      "You: 49 hp  6 sp\n",
      "Goblin: 50 hp\n"
     ]
    },
    {
     "name": "stdin",
     "output_type": "stream",
     "text": [
      "Do you want to 'atk', 'heal', 'smash', or 'rest'? s\n"
     ]
    },
    {
     "name": "stdout",
     "output_type": "stream",
     "text": [
      "You smashed Goblin for 30 dmg!!!\n",
      "Goblin healed 9 health.\n",
      "You: 49 hp  3 sp\n",
      "Goblin: 29 hp\n"
     ]
    },
    {
     "name": "stdin",
     "output_type": "stream",
     "text": [
      "Do you want to 'atk', 'heal', 'smash', or 'rest'? s\n"
     ]
    },
    {
     "name": "stdout",
     "output_type": "stream",
     "text": [
      "You smashed Goblin for 31 dmg!!!\n",
      "You have won!!!\n",
      "Wins: 13\n",
      "Rewards: Hp boosted, Sp boosted\n"
     ]
    },
    {
     "name": "stdin",
     "output_type": "stream",
     "text": [
      "Pick a prize: 1_HealUP, 2_AtkUP, 3_SmashUP s\n"
     ]
    },
    {
     "name": "stdout",
     "output_type": "stream",
     "text": [
      "Upgraded Smash!\n",
      "You: 54 hp  2 sp\n",
      "Goblin: 50 hp\n"
     ]
    },
    {
     "name": "stdin",
     "output_type": "stream",
     "text": [
      "Do you want to 'atk', 'heal', 'smash', or 'rest'? r\n"
     ]
    },
    {
     "name": "stdout",
     "output_type": "stream",
     "text": [
      "Goblin hurled a rock at you! 18 dmg!!!\n",
      "You: 36 hp  6 sp\n",
      "Goblin: 50 hp\n"
     ]
    },
    {
     "name": "stdin",
     "output_type": "stream",
     "text": [
      "Do you want to 'atk', 'heal', 'smash', or 'rest'? s\n"
     ]
    },
    {
     "name": "stdout",
     "output_type": "stream",
     "text": [
      "You smashed Goblin for 34 dmg!!!\n",
      "Goblin dealt 5 dmg to you!\n",
      "You: 31 hp  3 sp\n",
      "Goblin: 16 hp\n"
     ]
    },
    {
     "name": "stdin",
     "output_type": "stream",
     "text": [
      "Do you want to 'atk', 'heal', 'smash', or 'rest'? h\n"
     ]
    },
    {
     "name": "stdout",
     "output_type": "stream",
     "text": [
      "You healed 12 health.\n",
      "Goblin hurled a rock at you! 17 dmg!!!\n",
      "You: 26 hp  1 sp\n",
      "Goblin: 16 hp\n"
     ]
    },
    {
     "name": "stdin",
     "output_type": "stream",
     "text": [
      "Do you want to 'atk', 'heal', 'smash', or 'rest'? r\n"
     ]
    },
    {
     "name": "stdout",
     "output_type": "stream",
     "text": [
      "Goblin healed 8 health.\n",
      "You: 26 hp  5 sp\n",
      "Goblin: 24 hp\n"
     ]
    },
    {
     "name": "stdin",
     "output_type": "stream",
     "text": [
      "Do you want to 'atk', 'heal', 'smash', or 'rest'? r\n"
     ]
    },
    {
     "name": "stdout",
     "output_type": "stream",
     "text": [
      "Goblin dealt 4 dmg to you!\n",
      "You: 22 hp  9 sp\n",
      "Goblin: 24 hp\n"
     ]
    },
    {
     "name": "stdin",
     "output_type": "stream",
     "text": [
      "Do you want to 'atk', 'heal', 'smash', or 'rest'? h\n"
     ]
    },
    {
     "name": "stdout",
     "output_type": "stream",
     "text": [
      "You healed 12 health.\n",
      "Goblin healed 6 health.\n",
      "You: 34 hp  7 sp\n",
      "Goblin: 30 hp\n"
     ]
    },
    {
     "name": "stdin",
     "output_type": "stream",
     "text": [
      "Do you want to 'atk', 'heal', 'smash', or 'rest'? s\n"
     ]
    },
    {
     "name": "stdout",
     "output_type": "stream",
     "text": [
      "You smashed Goblin for 35 dmg!!!\n",
      "You have won!!!\n",
      "Wins: 14\n",
      "Rewards: Hp boosted, Sp boosted\n"
     ]
    },
    {
     "name": "stdin",
     "output_type": "stream",
     "text": [
      "Pick a prize: 1_HealUP, 2_AtkUP, 3_SmashUP h\n"
     ]
    },
    {
     "name": "stdout",
     "output_type": "stream",
     "text": [
      "Upgraded Heal!\n",
      "You: 39 hp  6 sp\n",
      "Goblin: 50 hp\n"
     ]
    },
    {
     "name": "stdin",
     "output_type": "stream",
     "text": [
      "Do you want to 'atk', 'heal', 'smash', or 'rest'? s\n"
     ]
    },
    {
     "name": "stdout",
     "output_type": "stream",
     "text": [
      "You smashed Goblin for 33 dmg!!!\n",
      "Goblin dealt 4 dmg to you!\n",
      "You: 35 hp  3 sp\n",
      "Goblin: 17 hp\n"
     ]
    },
    {
     "name": "stdin",
     "output_type": "stream",
     "text": [
      "Do you want to 'atk', 'heal', 'smash', or 'rest'? h\n"
     ]
    },
    {
     "name": "stdout",
     "output_type": "stream",
     "text": [
      "You healed 13 health.\n",
      "Goblin hurled a rock at you! 17 dmg!!!\n",
      "You: 31 hp  1 sp\n",
      "Goblin: 17 hp\n"
     ]
    },
    {
     "name": "stdin",
     "output_type": "stream",
     "text": [
      "Do you want to 'atk', 'heal', 'smash', or 'rest'? r\n"
     ]
    },
    {
     "name": "stdout",
     "output_type": "stream",
     "text": [
      "Goblin hurled a rock at you! 18 dmg!!!\n",
      "You: 13 hp  5 sp\n",
      "Goblin: 17 hp\n"
     ]
    },
    {
     "name": "stdin",
     "output_type": "stream",
     "text": [
      "Do you want to 'atk', 'heal', 'smash', or 'rest'? h\n"
     ]
    },
    {
     "name": "stdout",
     "output_type": "stream",
     "text": [
      "You healed 16 health.\n",
      "Goblin healed 10 health.\n",
      "You: 29 hp  3 sp\n",
      "Goblin: 27 hp\n"
     ]
    },
    {
     "name": "stdin",
     "output_type": "stream",
     "text": [
      "Do you want to 'atk', 'heal', 'smash', or 'rest'? r\n"
     ]
    },
    {
     "name": "stdout",
     "output_type": "stream",
     "text": [
      "Goblin dealt 6 dmg to you!\n",
      "You: 23 hp  7 sp\n",
      "Goblin: 27 hp\n"
     ]
    },
    {
     "name": "stdin",
     "output_type": "stream",
     "text": [
      "Do you want to 'atk', 'heal', 'smash', or 'rest'? h\n"
     ]
    },
    {
     "name": "stdout",
     "output_type": "stream",
     "text": [
      "You healed 13 health.\n",
      "Goblin hurled a rock at you! 20 dmg!!!\n",
      "You: 16 hp  5 sp\n",
      "Goblin: 27 hp\n"
     ]
    },
    {
     "name": "stdin",
     "output_type": "stream",
     "text": [
      "Do you want to 'atk', 'heal', 'smash', or 'rest'? h\n"
     ]
    },
    {
     "name": "stdout",
     "output_type": "stream",
     "text": [
      "You healed 14 health.\n",
      "Goblin dealt 6 dmg to you!\n",
      "You: 24 hp  3 sp\n",
      "Goblin: 27 hp\n"
     ]
    },
    {
     "name": "stdin",
     "output_type": "stream",
     "text": [
      "Do you want to 'atk', 'heal', 'smash', or 'rest'? r\n"
     ]
    },
    {
     "name": "stdout",
     "output_type": "stream",
     "text": [
      "You: 24 hp  7 sp\n",
      "Goblin: 27 hp\n"
     ]
    },
    {
     "name": "stdin",
     "output_type": "stream",
     "text": [
      "Do you want to 'atk', 'heal', 'smash', or 'rest'? h\n"
     ]
    },
    {
     "name": "stdout",
     "output_type": "stream",
     "text": [
      "You healed 17 health.\n",
      "Goblin healed 10 health.\n",
      "You: 41 hp  5 sp\n",
      "Goblin: 37 hp\n"
     ]
    },
    {
     "name": "stdin",
     "output_type": "stream",
     "text": [
      "Do you want to 'atk', 'heal', 'smash', or 'rest'? s\n"
     ]
    },
    {
     "name": "stdout",
     "output_type": "stream",
     "text": [
      "You smashed Goblin for 36 dmg!!!\n",
      "Goblin dealt 4 dmg to you!\n",
      "You: 37 hp  2 sp\n",
      "Goblin: 1 hp\n"
     ]
    },
    {
     "name": "stdin",
     "output_type": "stream",
     "text": [
      "Do you want to 'atk', 'heal', 'smash', or 'rest'? a\n"
     ]
    },
    {
     "name": "stdout",
     "output_type": "stream",
     "text": [
      "You dealt 7 dmg to goblin...\n",
      "You have won!!!\n",
      "Wins: 15\n",
      "Rewards: Hp boosted, Sp boosted\n"
     ]
    },
    {
     "name": "stdin",
     "output_type": "stream",
     "text": [
      "Pick a prize: 1_HealUP, 2_AtkUP, 3_SmashUP h\n"
     ]
    },
    {
     "name": "stdout",
     "output_type": "stream",
     "text": [
      "Upgraded Heal!\n",
      "You: 42 hp  5 sp\n",
      "Goblin: 50 hp\n"
     ]
    },
    {
     "name": "stdin",
     "output_type": "stream",
     "text": [
      "Do you want to 'atk', 'heal', 'smash', or 'rest'? s\n"
     ]
    },
    {
     "name": "stdout",
     "output_type": "stream",
     "text": [
      "You smashed Goblin for 34 dmg!!!\n",
      "Goblin hurled a rock at you! 20 dmg!!!\n",
      "You: 22 hp  2 sp\n",
      "Goblin: 16 hp\n"
     ]
    },
    {
     "name": "stdin",
     "output_type": "stream",
     "text": [
      "Do you want to 'atk', 'heal', 'smash', or 'rest'? h\n"
     ]
    },
    {
     "name": "stdout",
     "output_type": "stream",
     "text": [
      "You healed 17 health.\n",
      "Goblin hurled a rock at you! 18 dmg!!!\n",
      "You: 21 hp  0 sp\n",
      "Goblin: 16 hp\n"
     ]
    },
    {
     "name": "stdin",
     "output_type": "stream",
     "text": [
      "Do you want to 'atk', 'heal', 'smash', or 'rest'? a\n"
     ]
    },
    {
     "name": "stdout",
     "output_type": "stream",
     "text": [
      "You dealt 6 dmg to goblin...\n",
      "Goblin healed 7 health.\n",
      "You: 21 hp  1 sp\n",
      "Goblin: 17 hp\n"
     ]
    },
    {
     "name": "stdin",
     "output_type": "stream",
     "text": [
      "Do you want to 'atk', 'heal', 'smash', or 'rest'? r\n"
     ]
    },
    {
     "name": "stdout",
     "output_type": "stream",
     "text": [
      "Goblin healed 10 health.\n",
      "You: 21 hp  5 sp\n",
      "Goblin: 27 hp\n"
     ]
    },
    {
     "name": "stdin",
     "output_type": "stream",
     "text": [
      "Do you want to 'atk', 'heal', 'smash', or 'rest'? h\n"
     ]
    },
    {
     "name": "stdout",
     "output_type": "stream",
     "text": [
      "You healed 16 health.\n",
      "Goblin dealt 4 dmg to you!\n",
      "You: 33 hp  3 sp\n",
      "Goblin: 27 hp\n"
     ]
    },
    {
     "name": "stdin",
     "output_type": "stream",
     "text": [
      "Do you want to 'atk', 'heal', 'smash', or 'rest'? a\n"
     ]
    },
    {
     "name": "stdout",
     "output_type": "stream",
     "text": [
      "You dealt 4 dmg to goblin...\n",
      "Goblin dealt 4 dmg to you!\n",
      "You: 29 hp  4 sp\n",
      "Goblin: 23 hp\n"
     ]
    },
    {
     "name": "stdin",
     "output_type": "stream",
     "text": [
      "Do you want to 'atk', 'heal', 'smash', or 'rest'? a\n"
     ]
    },
    {
     "name": "stdout",
     "output_type": "stream",
     "text": [
      "You dealt 7 dmg to goblin...\n",
      "You: 29 hp  5 sp\n",
      "Goblin: 16 hp\n"
     ]
    },
    {
     "name": "stdin",
     "output_type": "stream",
     "text": [
      "Do you want to 'atk', 'heal', 'smash', or 'rest'? a\n"
     ]
    },
    {
     "name": "stdout",
     "output_type": "stream",
     "text": [
      "You dealt 7 dmg to goblin...\n",
      "You: 29 hp  6 sp\n",
      "Goblin: 9 hp\n"
     ]
    },
    {
     "name": "stdin",
     "output_type": "stream",
     "text": [
      "Do you want to 'atk', 'heal', 'smash', or 'rest'? a\n"
     ]
    },
    {
     "name": "stdout",
     "output_type": "stream",
     "text": [
      "You dealt 6 dmg to goblin...\n",
      "Goblin healed 8 health.\n",
      "You: 29 hp  7 sp\n",
      "Goblin: 11 hp\n"
     ]
    },
    {
     "name": "stdin",
     "output_type": "stream",
     "text": [
      "Do you want to 'atk', 'heal', 'smash', or 'rest'? a\n"
     ]
    },
    {
     "name": "stdout",
     "output_type": "stream",
     "text": [
      "You dealt 4 dmg to goblin...\n",
      "Goblin dealt 6 dmg to you!\n",
      "You: 23 hp  8 sp\n",
      "Goblin: 7 hp\n"
     ]
    },
    {
     "name": "stdin",
     "output_type": "stream",
     "text": [
      "Do you want to 'atk', 'heal', 'smash', or 'rest'? h\n"
     ]
    },
    {
     "name": "stdout",
     "output_type": "stream",
     "text": [
      "You healed 17 health.\n",
      "Goblin dealt 5 dmg to you!\n",
      "You: 35 hp  6 sp\n",
      "Goblin: 7 hp\n"
     ]
    },
    {
     "name": "stdin",
     "output_type": "stream",
     "text": [
      "Do you want to 'atk', 'heal', 'smash', or 'rest'? h\n"
     ]
    },
    {
     "name": "stdout",
     "output_type": "stream",
     "text": [
      "You healed 19 health.\n",
      "You: 54 hp  4 sp\n",
      "Goblin: 7 hp\n"
     ]
    },
    {
     "name": "stdin",
     "output_type": "stream",
     "text": [
      "Do you want to 'atk', 'heal', 'smash', or 'rest'? h\n"
     ]
    },
    {
     "name": "stdout",
     "output_type": "stream",
     "text": [
      "You healed 16 health.\n",
      "Goblin dealt 5 dmg to you!\n",
      "You: 65 hp  2 sp\n",
      "Goblin: 7 hp\n"
     ]
    },
    {
     "name": "stdin",
     "output_type": "stream",
     "text": [
      "Do you want to 'atk', 'heal', 'smash', or 'rest'? a\n"
     ]
    },
    {
     "name": "stdout",
     "output_type": "stream",
     "text": [
      "You dealt 7 dmg to goblin...\n",
      "You have won!!!\n",
      "Wins: 16\n",
      "Rewards: Hp boosted, Sp boosted\n"
     ]
    },
    {
     "name": "stdin",
     "output_type": "stream",
     "text": [
      "Pick a prize: 1_HealUP, 2_AtkUP, 3_SmashUP a\n"
     ]
    },
    {
     "name": "stdout",
     "output_type": "stream",
     "text": [
      "Upgraded Attack!\n",
      "You: 70 hp  5 sp\n",
      "Goblin: 50 hp\n"
     ]
    },
    {
     "name": "stdin",
     "output_type": "stream",
     "text": [
      "Do you want to 'atk', 'heal', 'smash', or 'rest'? a\n"
     ]
    },
    {
     "name": "stdout",
     "output_type": "stream",
     "text": [
      "You dealt 8 dmg to goblin...\n",
      "Goblin dealt 4 dmg to you!\n",
      "You: 66 hp  6 sp\n",
      "Goblin: 42 hp\n"
     ]
    },
    {
     "name": "stdin",
     "output_type": "stream",
     "text": [
      "Do you want to 'atk', 'heal', 'smash', or 'rest'? s\n"
     ]
    },
    {
     "name": "stdout",
     "output_type": "stream",
     "text": [
      "You smashed Goblin for 36 dmg!!!\n",
      "Goblin healed 7 health.\n",
      "You: 66 hp  3 sp\n",
      "Goblin: 13 hp\n"
     ]
    },
    {
     "name": "stdin",
     "output_type": "stream",
     "text": [
      "Do you want to 'atk', 'heal', 'smash', or 'rest'? a\n"
     ]
    },
    {
     "name": "stdout",
     "output_type": "stream",
     "text": [
      "You dealt 8 dmg to goblin...\n",
      "Goblin healed 8 health.\n",
      "You: 66 hp  4 sp\n",
      "Goblin: 13 hp\n"
     ]
    },
    {
     "name": "stdin",
     "output_type": "stream",
     "text": [
      "Do you want to 'atk', 'heal', 'smash', or 'rest'? a\n"
     ]
    },
    {
     "name": "stdout",
     "output_type": "stream",
     "text": [
      "You dealt 6 dmg to goblin...\n",
      "Goblin dealt 4 dmg to you!\n",
      "You: 62 hp  5 sp\n",
      "Goblin: 7 hp\n"
     ]
    },
    {
     "name": "stdin",
     "output_type": "stream",
     "text": [
      "Do you want to 'atk', 'heal', 'smash', or 'rest'? a\n"
     ]
    },
    {
     "name": "stdout",
     "output_type": "stream",
     "text": [
      "You dealt 5 dmg to goblin...\n",
      "Goblin dealt 5 dmg to you!\n",
      "You: 57 hp  6 sp\n",
      "Goblin: 2 hp\n"
     ]
    },
    {
     "name": "stdin",
     "output_type": "stream",
     "text": [
      "Do you want to 'atk', 'heal', 'smash', or 'rest'? a\n"
     ]
    },
    {
     "name": "stdout",
     "output_type": "stream",
     "text": [
      "You dealt 5 dmg to goblin...\n",
      "You have won!!!\n",
      "Wins: 17\n",
      "Rewards: Hp boosted, Sp boosted\n"
     ]
    },
    {
     "name": "stdin",
     "output_type": "stream",
     "text": [
      "Pick a prize: 1_HealUP, 2_AtkUP, 3_SmashUP s\n"
     ]
    },
    {
     "name": "stdout",
     "output_type": "stream",
     "text": [
      "Upgraded Smash!\n",
      "You: 62 hp  9 sp\n",
      "Goblin: 50 hp\n"
     ]
    },
    {
     "name": "stdin",
     "output_type": "stream",
     "text": [
      "Do you want to 'atk', 'heal', 'smash', or 'rest'? s\n"
     ]
    },
    {
     "name": "stdout",
     "output_type": "stream",
     "text": [
      "You smashed Goblin for 39 dmg!!!\n",
      "Goblin healed 10 health.\n",
      "You: 62 hp  6 sp\n",
      "Goblin: 21 hp\n"
     ]
    },
    {
     "name": "stdin",
     "output_type": "stream",
     "text": [
      "Do you want to 'atk', 'heal', 'smash', or 'rest'? a\n"
     ]
    },
    {
     "name": "stdout",
     "output_type": "stream",
     "text": [
      "You dealt 6 dmg to goblin...\n",
      "Goblin hurled a rock at you! 18 dmg!!!\n",
      "You: 44 hp  7 sp\n",
      "Goblin: 15 hp\n"
     ]
    },
    {
     "name": "stdin",
     "output_type": "stream",
     "text": [
      "Do you want to 'atk', 'heal', 'smash', or 'rest'? h\n"
     ]
    },
    {
     "name": "stdout",
     "output_type": "stream",
     "text": [
      "You healed 17 health.\n",
      "Goblin dealt 6 dmg to you!\n",
      "You: 55 hp  5 sp\n",
      "Goblin: 15 hp\n"
     ]
    },
    {
     "name": "stdin",
     "output_type": "stream",
     "text": [
      "Do you want to 'atk', 'heal', 'smash', or 'rest'? a\n"
     ]
    },
    {
     "name": "stdout",
     "output_type": "stream",
     "text": [
      "You dealt 6 dmg to goblin...\n",
      "Goblin healed 7 health.\n",
      "You: 55 hp  6 sp\n",
      "Goblin: 16 hp\n"
     ]
    },
    {
     "name": "stdin",
     "output_type": "stream",
     "text": [
      "Do you want to 'atk', 'heal', 'smash', or 'rest'? a\n"
     ]
    },
    {
     "name": "stdout",
     "output_type": "stream",
     "text": [
      "You dealt 6 dmg to goblin...\n",
      "Goblin hurled a rock at you! 19 dmg!!!\n",
      "You: 36 hp  7 sp\n",
      "Goblin: 10 hp\n"
     ]
    },
    {
     "name": "stdin",
     "output_type": "stream",
     "text": [
      "Do you want to 'atk', 'heal', 'smash', or 'rest'? a\n"
     ]
    },
    {
     "name": "stdout",
     "output_type": "stream",
     "text": [
      "You dealt 9 dmg to goblin...\n",
      "Goblin dealt 4 dmg to you!\n",
      "You: 32 hp  8 sp\n",
      "Goblin: 1 hp\n"
     ]
    },
    {
     "name": "stdin",
     "output_type": "stream",
     "text": [
      "Do you want to 'atk', 'heal', 'smash', or 'rest'? a\n"
     ]
    },
    {
     "name": "stdout",
     "output_type": "stream",
     "text": [
      "You dealt 5 dmg to goblin...\n",
      "You have won!!!\n",
      "Wins: 18\n",
      "Rewards: Hp boosted, Sp boosted\n"
     ]
    },
    {
     "name": "stdin",
     "output_type": "stream",
     "text": [
      "Pick a prize: 1_HealUP, 2_AtkUP, 3_SmashUP s\n"
     ]
    },
    {
     "name": "stdout",
     "output_type": "stream",
     "text": [
      "Upgraded Smash!\n",
      "You: 37 hp  11 sp\n",
      "Goblin: 50 hp\n"
     ]
    },
    {
     "name": "stdin",
     "output_type": "stream",
     "text": [
      "Do you want to 'atk', 'heal', 'smash', or 'rest'? s\n"
     ]
    },
    {
     "name": "stdout",
     "output_type": "stream",
     "text": [
      "You smashed Goblin for 43 dmg!!!\n",
      "Goblin dealt 4 dmg to you!\n",
      "You: 33 hp  8 sp\n",
      "Goblin: 7 hp\n"
     ]
    },
    {
     "name": "stdin",
     "output_type": "stream",
     "text": [
      "Do you want to 'atk', 'heal', 'smash', or 'rest'? a\n"
     ]
    },
    {
     "name": "stdout",
     "output_type": "stream",
     "text": [
      "You dealt 6 dmg to goblin...\n",
      "Goblin dealt 5 dmg to you!\n",
      "You: 28 hp  9 sp\n",
      "Goblin: 1 hp\n"
     ]
    },
    {
     "name": "stdin",
     "output_type": "stream",
     "text": [
      "Do you want to 'atk', 'heal', 'smash', or 'rest'? h\n"
     ]
    },
    {
     "name": "stdout",
     "output_type": "stream",
     "text": [
      "You healed 15 health.\n",
      "Goblin hurled a rock at you! 16 dmg!!!\n",
      "You: 27 hp  7 sp\n",
      "Goblin: 1 hp\n"
     ]
    },
    {
     "name": "stdin",
     "output_type": "stream",
     "text": [
      "Do you want to 'atk', 'heal', 'smash', or 'rest'? h\n"
     ]
    },
    {
     "name": "stdout",
     "output_type": "stream",
     "text": [
      "You healed 19 health.\n",
      "Goblin healed 10 health.\n",
      "You: 46 hp  5 sp\n",
      "Goblin: 11 hp\n"
     ]
    },
    {
     "name": "stdin",
     "output_type": "stream",
     "text": [
      "Do you want to 'atk', 'heal', 'smash', or 'rest'? h\n"
     ]
    },
    {
     "name": "stdout",
     "output_type": "stream",
     "text": [
      "You healed 15 health.\n",
      "Goblin hurled a rock at you! 17 dmg!!!\n",
      "You: 44 hp  3 sp\n",
      "Goblin: 11 hp\n"
     ]
    },
    {
     "name": "stdin",
     "output_type": "stream",
     "text": [
      "Do you want to 'atk', 'heal', 'smash', or 'rest'? r\n"
     ]
    },
    {
     "name": "stdout",
     "output_type": "stream",
     "text": [
      "Goblin dealt 4 dmg to you!\n",
      "You: 40 hp  7 sp\n",
      "Goblin: 11 hp\n"
     ]
    },
    {
     "name": "stdin",
     "output_type": "stream",
     "text": [
      "Do you want to 'atk', 'heal', 'smash', or 'rest'? h\n"
     ]
    },
    {
     "name": "stdout",
     "output_type": "stream",
     "text": [
      "You healed 19 health.\n",
      "Goblin hurled a rock at you! 19 dmg!!!\n",
      "You: 40 hp  5 sp\n",
      "Goblin: 11 hp\n"
     ]
    },
    {
     "name": "stdin",
     "output_type": "stream",
     "text": [
      "Do you want to 'atk', 'heal', 'smash', or 'rest'? h\n"
     ]
    },
    {
     "name": "stdout",
     "output_type": "stream",
     "text": [
      "You healed 15 health.\n",
      "Goblin healed 10 health.\n",
      "You: 55 hp  3 sp\n",
      "Goblin: 21 hp\n"
     ]
    },
    {
     "name": "stdin",
     "output_type": "stream",
     "text": [
      "Do you want to 'atk', 'heal', 'smash', or 'rest'? r\n"
     ]
    },
    {
     "name": "stdout",
     "output_type": "stream",
     "text": [
      "Goblin dealt 6 dmg to you!\n",
      "You: 49 hp  7 sp\n",
      "Goblin: 21 hp\n"
     ]
    },
    {
     "name": "stdin",
     "output_type": "stream",
     "text": [
      "Do you want to 'atk', 'heal', 'smash', or 'rest'? h\n"
     ]
    },
    {
     "name": "stdout",
     "output_type": "stream",
     "text": [
      "You healed 17 health.\n",
      "Goblin dealt 4 dmg to you!\n",
      "You: 62 hp  5 sp\n",
      "Goblin: 21 hp\n"
     ]
    },
    {
     "name": "stdin",
     "output_type": "stream",
     "text": [
      "Do you want to 'atk', 'heal', 'smash', or 'rest'? a\n"
     ]
    },
    {
     "name": "stdout",
     "output_type": "stream",
     "text": [
      "You dealt 6 dmg to goblin...\n",
      "You: 62 hp  6 sp\n",
      "Goblin: 15 hp\n"
     ]
    },
    {
     "name": "stdin",
     "output_type": "stream",
     "text": [
      "Do you want to 'atk', 'heal', 'smash', or 'rest'? a\n"
     ]
    },
    {
     "name": "stdout",
     "output_type": "stream",
     "text": [
      "You dealt 6 dmg to goblin...\n",
      "Goblin dealt 5 dmg to you!\n",
      "You: 57 hp  7 sp\n",
      "Goblin: 9 hp\n"
     ]
    },
    {
     "name": "stdin",
     "output_type": "stream",
     "text": [
      "Do you want to 'atk', 'heal', 'smash', or 'rest'? a\n"
     ]
    },
    {
     "name": "stdout",
     "output_type": "stream",
     "text": [
      "You dealt 5 dmg to goblin...\n",
      "Goblin hurled a rock at you! 18 dmg!!!\n",
      "You: 39 hp  8 sp\n",
      "Goblin: 4 hp\n"
     ]
    },
    {
     "name": "stdin",
     "output_type": "stream",
     "text": [
      "Do you want to 'atk', 'heal', 'smash', or 'rest'? h\n"
     ]
    },
    {
     "name": "stdout",
     "output_type": "stream",
     "text": [
      "You healed 15 health.\n",
      "Goblin dealt 4 dmg to you!\n",
      "You: 50 hp  6 sp\n",
      "Goblin: 4 hp\n"
     ]
    },
    {
     "name": "stdin",
     "output_type": "stream",
     "text": [
      "Do you want to 'atk', 'heal', 'smash', or 'rest'? a\n"
     ]
    },
    {
     "name": "stdout",
     "output_type": "stream",
     "text": [
      "You dealt 7 dmg to goblin...\n",
      "You have won!!!\n",
      "Wins: 19\n",
      "Rewards: Hp boosted, Sp boosted\n"
     ]
    },
    {
     "name": "stdin",
     "output_type": "stream",
     "text": [
      "Pick a prize: 1_HealUP, 2_AtkUP, 3_SmashUP s\n"
     ]
    },
    {
     "name": "stdout",
     "output_type": "stream",
     "text": [
      "Upgraded Smash!\n",
      "You: 55 hp  9 sp\n",
      "Goblin: 50 hp\n"
     ]
    },
    {
     "name": "stdin",
     "output_type": "stream",
     "text": [
      "Do you want to 'atk', 'heal', 'smash', or 'rest'? s\n"
     ]
    },
    {
     "name": "stdout",
     "output_type": "stream",
     "text": [
      "You smashed Goblin for 47 dmg!!!\n",
      "Goblin hurled a rock at you! 19 dmg!!!\n",
      "You: 36 hp  6 sp\n",
      "Goblin: 3 hp\n"
     ]
    },
    {
     "name": "stdin",
     "output_type": "stream",
     "text": [
      "Do you want to 'atk', 'heal', 'smash', or 'rest'? a\n"
     ]
    },
    {
     "name": "stdout",
     "output_type": "stream",
     "text": [
      "You dealt 9 dmg to goblin...\n",
      "You have won!!!\n",
      "Wins: 20\n",
      "Rewards: Hp boosted, Sp boosted\n"
     ]
    },
    {
     "name": "stdin",
     "output_type": "stream",
     "text": [
      "Pick a prize: 1_HealUP, 2_AtkUP, 3_SmashUP s\n"
     ]
    },
    {
     "name": "stdout",
     "output_type": "stream",
     "text": [
      "Upgraded Smash!\n",
      "The goblins grow stronger!!!\n",
      "You: 41 hp  9 sp\n",
      "Goblin: 75 hp\n"
     ]
    },
    {
     "name": "stdin",
     "output_type": "stream",
     "text": [
      "Do you want to 'atk', 'heal', 'smash', or 'rest'? s\n"
     ]
    },
    {
     "name": "stdout",
     "output_type": "stream",
     "text": [
      "You smashed Goblin for 50 dmg!!!\n",
      "Goblin healed 14 health.\n",
      "You: 41 hp  6 sp\n",
      "Goblin: 39 hp\n"
     ]
    },
    {
     "name": "stdin",
     "output_type": "stream",
     "text": [
      "Do you want to 'atk', 'heal', 'smash', or 'rest'? s\n"
     ]
    },
    {
     "name": "stdout",
     "output_type": "stream",
     "text": [
      "You smashed Goblin for 51 dmg!!!\n",
      "You have won!!!\n",
      "Wins: 21\n",
      "Rewards: Hp boosted, Sp boosted\n"
     ]
    },
    {
     "name": "stdin",
     "output_type": "stream",
     "text": [
      "Pick a prize: 1_HealUP, 2_AtkUP, 3_SmashUP h\n"
     ]
    },
    {
     "name": "stdout",
     "output_type": "stream",
     "text": [
      "Upgraded Heal!\n",
      "You: 46 hp  5 sp\n",
      "Goblin: 75 hp\n"
     ]
    },
    {
     "name": "stdin",
     "output_type": "stream",
     "text": [
      "Do you want to 'atk', 'heal', 'smash', or 'rest'? s\n"
     ]
    },
    {
     "name": "stdout",
     "output_type": "stream",
     "text": [
      "You smashed Goblin for 50 dmg!!!\n",
      "Goblin hurled a rock at you! 27 dmg!!!\n",
      "You: 19 hp  2 sp\n",
      "Goblin: 25 hp\n"
     ]
    },
    {
     "name": "stdin",
     "output_type": "stream",
     "text": [
      "Do you want to 'atk', 'heal', 'smash', or 'rest'? h\n"
     ]
    },
    {
     "name": "stdout",
     "output_type": "stream",
     "text": [
      "You healed 18 health.\n",
      "Goblin dealt 8 dmg to you!\n",
      "You: 29 hp  0 sp\n",
      "Goblin: 25 hp\n"
     ]
    },
    {
     "name": "stdin",
     "output_type": "stream",
     "text": [
      "Do you want to 'atk', 'heal', 'smash', or 'rest'? r\n"
     ]
    },
    {
     "name": "stdout",
     "output_type": "stream",
     "text": [
      "Goblin healed 15 health.\n",
      "You: 29 hp  4 sp\n",
      "Goblin: 40 hp\n"
     ]
    },
    {
     "name": "stdin",
     "output_type": "stream",
     "text": [
      "Do you want to 'atk', 'heal', 'smash', or 'rest'? s\n"
     ]
    },
    {
     "name": "stdout",
     "output_type": "stream",
     "text": [
      "You smashed Goblin for 52 dmg!!!\n",
      "You have won!!!\n",
      "Wins: 22\n",
      "Rewards: Hp boosted, Sp boosted\n"
     ]
    },
    {
     "name": "stdin",
     "output_type": "stream",
     "text": [
      "Pick a prize: 1_HealUP, 2_AtkUP, 3_SmashUP h\n"
     ]
    },
    {
     "name": "stdout",
     "output_type": "stream",
     "text": [
      "Upgraded Heal!\n",
      "You: 34 hp  3 sp\n",
      "Goblin: 75 hp\n"
     ]
    },
    {
     "name": "stdin",
     "output_type": "stream",
     "text": [
      "Do you want to 'atk', 'heal', 'smash', or 'rest'? h\n"
     ]
    },
    {
     "name": "stdout",
     "output_type": "stream",
     "text": [
      "You healed 21 health.\n",
      "Goblin hurled a rock at you! 26 dmg!!!\n",
      "You: 29 hp  1 sp\n",
      "Goblin: 75 hp\n"
     ]
    },
    {
     "name": "stdin",
     "output_type": "stream",
     "text": [
      "Do you want to 'atk', 'heal', 'smash', or 'rest'? r\n"
     ]
    },
    {
     "name": "stdout",
     "output_type": "stream",
     "text": [
      "Goblin hurled a rock at you! 30 dmg!!!\n",
      "You have been defeated!\n",
      "Game Over\n"
     ]
    }
   ],
   "source": [
    "from random import randint, choice\n",
    "# CHATGPT EDITTED REVISION\n",
    "# Player attributes\n",
    "userhp = 30\n",
    "usersp = 5\n",
    "userheal = 5\n",
    "usersmash = 8\n",
    "useratk = 5\n",
    "wins = 0\n",
    "\n",
    "# Goblin attributes\n",
    "base_goblin_stats = {\n",
    "    \"hp\": 25,\n",
    "    \"sp\": 5,\n",
    "    \"atk\": 3,\n",
    "    \"heal\": 5,\n",
    "    \"hurl\": 10\n",
    "}\n",
    "goblinchoice = ['atk', 'heal', 'hurl']\n",
    "\n",
    "def reset_goblin(wins):\n",
    "    multiplier = 1\n",
    "    if 10 <= wins < 20:\n",
    "        if wins == 10:\n",
    "            print('The goblins grow stronger!!!')\n",
    "        multiplier = 2\n",
    "    elif 20 <= wins < 30:\n",
    "        if wins == 20:\n",
    "            print('The goblins grow stronger!!!')\n",
    "        multiplier = 3\n",
    "\n",
    "    goblin_stats = {key: value * multiplier for key, value in base_goblin_stats.items()}\n",
    "    return goblin_stats\n",
    "\n",
    "def goblin_turn(userhp, goblin_stats):\n",
    "    turn = choice(goblinchoice)\n",
    "    if turn == 'atk':\n",
    "        minatk = goblin_stats['atk'] - 2\n",
    "        hisatk = randint(minatk, goblin_stats['atk'])\n",
    "        print(f'Goblin dealt {hisatk} dmg to you!')\n",
    "        userhp -= hisatk\n",
    "        goblin_stats['sp'] += 1\n",
    "    elif turn == 'hurl' and goblin_stats['sp'] >= 3:\n",
    "        minhurl = goblin_stats['hurl'] - 4\n",
    "        hurlatk = randint(minhurl, goblin_stats['hurl'])\n",
    "        print(f'Goblin hurled a rock at you! {hurlatk} dmg!!!')\n",
    "        userhp -= hurlatk\n",
    "        goblin_stats['sp'] -= 3\n",
    "    elif turn == 'heal' and goblin_stats['sp'] >= 2:\n",
    "        minheal = goblin_stats['heal'] - 4\n",
    "        heal_amount = randint(minheal, goblin_stats['heal'])\n",
    "        print(f'Goblin healed {heal_amount} health.')\n",
    "        goblin_stats['hp'] += heal_amount\n",
    "        goblin_stats['sp'] -= 2\n",
    "    elif (turn in ['hurl', 'heal']) and goblin_stats['sp'] < 2:\n",
    "        minatk = goblin_stats['atk'] - 2\n",
    "        hisatk = randint(minatk, goblin_stats['atk'])\n",
    "        print(f'Goblin dealt {hisatk} dmg to you!')\n",
    "        userhp -= hisatk\n",
    "        goblin_stats['sp'] += 1\n",
    "    return userhp, goblin_stats\n",
    "\n",
    "def main():\n",
    "    global userhp, usersp, userheal, usersmash, useratk, wins\n",
    "    print('Welcome to the Gulag.')\n",
    "    print('Your enemy is the goblin, prepare for battle!')\n",
    "\n",
    "    while userhp > 0:\n",
    "        goblin_stats = reset_goblin(wins)\n",
    "        while userhp > 0 and goblin_stats['hp'] > 0:\n",
    "            print(f'You: {userhp} hp  {usersp} sp')\n",
    "            print(f'Goblin: {goblin_stats[\"hp\"]} hp')\n",
    "            userinput = input(\"Do you want to 'atk', 'heal', or 'smash'?\").strip().lower()\n",
    "            \n",
    "            if userinput in ['a', 'atk', 'h', 'heal', 's', 'smash']:\n",
    "                if userinput in ['a', 'atk']:\n",
    "                    minatk = useratk - 4\n",
    "                    youratk = randint(minatk, useratk)\n",
    "                    print(f'You dealt {youratk} dmg to goblin...')\n",
    "                    goblin_stats['hp'] -= youratk\n",
    "                    usersp += 1\n",
    "                elif userinput in ['h', 'heal'] and usersp >= 2:\n",
    "                    minheal = userheal - 4\n",
    "                    heal_amount = randint(minheal, userheal)\n",
    "                    print(f'You healed {heal_amount} health.')\n",
    "                    userhp += heal_amount\n",
    "                    usersp -= 2\n",
    "                elif userinput in ['s', 'smash'] and usersp >= 3:\n",
    "                    minsmash = usersmash - 3\n",
    "                    smashatk = randint(minsmash, usersmash)\n",
    "                    print(f'You smashed Goblin for {smashatk} dmg!!!')\n",
    "                    goblin_stats['hp'] -= smashatk\n",
    "                    usersp -= 3\n",
    "                else:\n",
    "                    print('Not enough sp.')\n",
    "                    continue\n",
    "            else:\n",
    "                print(\"Invalid response.\")\n",
    "                continue\n",
    "            \n",
    "            if goblin_stats['hp'] <= 0:\n",
    "                print('You have won!!!')\n",
    "                wins += 1\n",
    "                print(f'Wins: {wins}')\n",
    "                print('Rewards: Hp boosted, Sp boosted')\n",
    "                userhp += 5\n",
    "                usersp += 2\n",
    "                userprize = input(\"Pick a prize: 1_HealUP, 2_AtkUP, 3_SmashUP\").strip().lower()\n",
    "                if userprize in ['1', 'healup', 'h']:\n",
    "                    userheal += 3\n",
    "                    print('Upgraded Heal!')\n",
    "                elif userprize in ['2', 'atkup', 'a']:\n",
    "                    useratk += 2\n",
    "                    print('Upgraded Attack!')\n",
    "                elif userprize in ['3', 'smashup', 's']:\n",
    "                    usersmash += 6\n",
    "                    print('Upgraded Smash!')\n",
    "                else:\n",
    "                    print('Oops invalid response, No reward!!!')\n",
    "                break\n",
    "\n",
    "            userhp, goblin_stats = goblin_turn(userhp, goblin_stats)\n",
    "            if userhp <= 0:\n",
    "                print('You have been defeated!')\n",
    "                break\n",
    "\n",
    "    print('Game Over')\n",
    "\n",
    "if __name__ == \"__main__\":\n",
    "    main()\n"
   ]
  },
  {
   "cell_type": "code",
   "execution_count": null,
   "id": "298051f7-599d-44d5-84e4-9b65445e3fba",
   "metadata": {},
   "outputs": [],
   "source": []
  }
 ],
 "metadata": {
  "kernelspec": {
   "display_name": "Python 3 (ipykernel)",
   "language": "python",
   "name": "python3"
  },
  "language_info": {
   "codemirror_mode": {
    "name": "ipython",
    "version": 3
   },
   "file_extension": ".py",
   "mimetype": "text/x-python",
   "name": "python",
   "nbconvert_exporter": "python",
   "pygments_lexer": "ipython3",
   "version": "3.12.4"
  }
 },
 "nbformat": 4,
 "nbformat_minor": 5
}
